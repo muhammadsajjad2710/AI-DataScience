{
 "cells": [
  {
   "cell_type": "markdown",
   "id": "81377cce",
   "metadata": {},
   "source": [
    "# Data Science Tools and Ecosystem"
   ]
  },
  {
   "cell_type": "markdown",
   "id": "742c9e47",
   "metadata": {},
   "source": [
    "In this notebook, Data Science Tools and Ecosystem are summarized.Data science tools are used for diving into raw and complicated data (unstructured or structured data) and processing, extracting, and analyzing it to dig out valuable insights by applying different data processing techniques such as statistics, computer science, predictive modeling and analysis, and deep learning.A data ecosystem refers to a combination of enterprise infrastructure and applications that is utilized to aggregate and analyze information. It enables organizations to better understand their customers and craft superior marketing, pricing and operations strategies."
   ]
  },
  {
   "cell_type": "markdown",
   "id": "7b8606a0",
   "metadata": {},
   "source": [
    "## Some of the popular languages that Data Scientists use are:\n",
    "### Python\n",
    "### R\n",
    "### Julia\n",
    "\n"
   ]
  },
  {
   "cell_type": "markdown",
   "id": "161ab7f7",
   "metadata": {},
   "source": [
    "Some of the commonly used libraries used by Data Scientists include:\n",
    "Tensor Flow,\n",
    "scikit-learn,\n",
    "opencv and\n",
    "numpy."
   ]
  },
  {
   "cell_type": "markdown",
   "id": "3d28de82",
   "metadata": {},
   "source": [
    "| Tool            | Description                                                                          |\n",
    "|----------------|--------------------------------------------------------------------------------------|\n",
    "| Python          | General-purpose programming language widely used in data science and machine learning |\n",
    "| R               | Programming language and software environment for statistical computing and graphics |\n",
    "| SQL             | Domain-specific language used in managing and manipulating relational databases      |\n",
    "| Apache Hadoop   | Open-source software framework used for distributed storage and processing of big data |\n",
    "| Apache Spark    | Open-source distributed computing system used for big data processing                |\n",
    "| Tableau         | Data visualization tool used for creating interactive dashboards and reports          |\n",
    "| Jupyter Notebook| Open-source web application for creating and sharing documents containing code, equations, visualizations and narrative text |\n",
    "| TensorFlow      | Open-source software library used for data flow and differentiable programming across a range of tasks                      |\n",
    "| PyTorch         | Open-source machine learning library used for computer vision and natural language processing tasks                       |\n",
    "| Scikit-learn    | Machine learning library for Python                                                   |\n"
   ]
  },
  {
   "cell_type": "markdown",
   "id": "939f3bfb",
   "metadata": {},
   "source": [
    "### Below are a few examples of evaluating arithmetic expressions in Python."
   ]
  },
  {
   "cell_type": "code",
   "execution_count": 16,
   "id": "34660107",
   "metadata": {},
   "outputs": [
    {
     "name": "stdout",
     "output_type": "stream",
     "text": [
      "5\n",
      "3\n",
      "12\n",
      "5.0\n",
      "1\n"
     ]
    }
   ],
   "source": [
    "#Below are a few examples of evaluating arithmetic expressions in Python.\n",
    "# Addition\n",
    "a = 2\n",
    "b = 3\n",
    "c = a + b\n",
    "print(c)  # Output: 5\n",
    "\n",
    "# Subtraction\n",
    "x = 5\n",
    "y = 2\n",
    "z = x - y\n",
    "print(z)  # Output: 3\n",
    "\n",
    "# Multiplication\n",
    "p = 4\n",
    "q = 3\n",
    "r = p * q\n",
    "print(r)  # Output: 12\n",
    "\n",
    "# Division\n",
    "m = 10\n",
    "n = 2\n",
    "o = m / n\n",
    "print(o)  # Output: 5.0 (Note: Division always returns a float)\n",
    "\n",
    "# Modulo (Remainder)\n",
    "j = 10\n",
    "k = 3\n",
    "l = j % k\n",
    "print(l)  # Output: 1 (Note: Modulo returns the remainder)\n",
    "\n"
   ]
  },
  {
   "cell_type": "code",
   "execution_count": 17,
   "id": "d9d7a32e",
   "metadata": {},
   "outputs": [
    {
     "name": "stdout",
     "output_type": "stream",
     "text": [
      "17\n"
     ]
    }
   ],
   "source": [
    "#This a simple arithmetic expression to mutiply then add integers\n",
    "result = (3 * 4) + 5\n",
    "print(result)  # Output: 17"
   ]
  },
  {
   "cell_type": "code",
   "execution_count": 8,
   "id": "a1be9ca8",
   "metadata": {},
   "outputs": [
    {
     "name": "stdout",
     "output_type": "stream",
     "text": [
      "3.3333333333333335\n"
     ]
    }
   ],
   "source": [
    "# This will convert 200 minutes to hours by dividing by 60.\n",
    "minutes = 200\n",
    "hours = minutes / 60\n",
    "print(hours)"
   ]
  },
  {
   "cell_type": "markdown",
   "id": "cc44f8d1",
   "metadata": {},
   "source": [
    "# Objectives:\n",
    "Here are some of the key takeaways from this notebook:\n",
    "\n",
    "- List popular languages for Data Science\n",
    "- Discuss the importance of libraries and frameworks in Data Science\n",
    "- Introduce the NumPy library for numerical computing\n",
    "- Demonstrate how to create and manipulate NumPy arrays\n",
    "- Introduce Pandas library for data manipulation and analysis\n",
    "These are just a few of the objectives covered in this notebook. By the end of this notebook, you should have a basic understanding of the Python programming language and some of its key libraries and tools used in Data Science."
   ]
  },
  {
   "cell_type": "markdown",
   "id": "f34cc9e4",
   "metadata": {},
   "source": [
    "# Author\n",
    "Muhammad Sajjad <br>\n",
    "Data Scientist "
   ]
  },
  {
   "cell_type": "code",
   "execution_count": null,
   "id": "b445fddb",
   "metadata": {},
   "outputs": [],
   "source": []
  }
 ],
 "metadata": {
  "kernelspec": {
   "display_name": "Python 3 (ipykernel)",
   "language": "python",
   "name": "python3"
  },
  "language_info": {
   "codemirror_mode": {
    "name": "ipython",
    "version": 3
   },
   "file_extension": ".py",
   "mimetype": "text/x-python",
   "name": "python",
   "nbconvert_exporter": "python",
   "pygments_lexer": "ipython3",
   "version": "3.10.3"
  }
 },
 "nbformat": 4,
 "nbformat_minor": 5
}
